{
 "cells": [
  {
   "cell_type": "markdown",
   "metadata": {},
   "source": [
    "<img src=\"https://cybersecurity-excellence-awards.com/wp-content/uploads/2017/06/366812.png\">"
   ]
  },
  {
   "cell_type": "markdown",
   "metadata": {},
   "source": [
    "<h1><center>Darwin Supervised Regression Model Building </center></h1>"
   ]
  },
  {
   "cell_type": "markdown",
   "metadata": {},
   "source": [
    "# Prior to getting started:"
   ]
  },
  {
   "cell_type": "markdown",
   "metadata": {},
   "source": [
    "First, \n",
    "<br>if you have just received a new api key from support, you will need to register your key and create a new user (see Register user cell)\n",
    "\n",
    "Second, in the Environment Variables cell: \n",
    "1. Set your username and password to ensure that you're able to log in successfully\n",
    "2. Set the path to the location of your datasets if you are using your own data.  The path is set for the examples.\n",
    "3. Set the dataset names accordingly\n",
    "\n",
    "Here are a few things to be mindful of:\n",
    "1. For every run, check the job status (i.e. requested, failed, running, completed) and wait for job to complete before proceeding. \n",
    "2. If you're not satisfied with your model and think that Darwin can benefit from extra training, use the resume function."
   ]
  },
  {
   "cell_type": "markdown",
   "metadata": {},
   "source": [
    "## Set Darwin SDK"
   ]
  },
  {
   "cell_type": "code",
   "execution_count": 27,
   "metadata": {},
   "outputs": [
    {
     "data": {
      "text/plain": [
       "(True, 'https://amb-demo-api.sparkcognition.com/v1/')"
      ]
     },
     "execution_count": 27,
     "metadata": {},
     "output_type": "execute_result"
    }
   ],
   "source": [
    "from amb_sdk.sdk import DarwinSdk\n",
    "ds = DarwinSdk()\n",
    "ds.set_url('https://amb-demo-api.sparkcognition.com/v1/')"
   ]
  },
  {
   "cell_type": "markdown",
   "metadata": {},
   "source": [
    "## Environment Variables"
   ]
  },
  {
   "cell_type": "code",
   "execution_count": 28,
   "metadata": {},
   "outputs": [],
   "source": [
    "#Set your user id and password accordingly\n",
    "USER=\"nsusanward@gmail.com\"\n",
    "PW=\"G8adjr4PCu\"\n",
    "\n",
    "# Set path to datasets - The default below assumes Jupyter was started from amb-sdk/examples/Enterprise/\n",
    "# Modify accordingly if you wish to use your own data\n",
    "PATH_TO_DATASET=''\n",
    "DATASET_NAME='mergedData2.csv'\n",
    "\n",
    "# A timestamp is used to create a unique name in the event you execute the workflow multiple times or with \n",
    "# different datasets.  File names must be unique in Darwin.\n",
    "import datetime\n",
    "ts = '{:%Y%m%d%H%M%S}'.format(datetime.datetime.now())\n"
   ]
  },
  {
   "cell_type": "markdown",
   "metadata": {},
   "source": [
    "## Import necessary libraries"
   ]
  },
  {
   "cell_type": "code",
   "execution_count": 3,
   "metadata": {
    "scrolled": true
   },
   "outputs": [],
   "source": [
    "# Import necessary libraries\n",
    "%matplotlib inline\n",
    "import matplotlib.pyplot as plt\n",
    "import pandas as pd\n",
    "from IPython.display import Image\n",
    "from time import sleep\n",
    "import os\n",
    "import numpy as np\n",
    "from sklearn.metrics import r2_score"
   ]
  },
  {
   "cell_type": "markdown",
   "metadata": {},
   "source": [
    "# User Login "
   ]
  },
  {
   "cell_type": "code",
   "execution_count": 29,
   "metadata": {},
   "outputs": [],
   "source": [
    "status, msg = ds.auth_login_user(USER,PW)\n",
    "if not status:\n",
    "    print(msg)"
   ]
  },
  {
   "cell_type": "markdown",
   "metadata": {},
   "source": [
    "# Data Upload"
   ]
  },
  {
   "cell_type": "markdown",
   "metadata": {},
   "source": [
    "**Read dataset and view a file snippet**"
   ]
  },
  {
   "cell_type": "code",
   "execution_count": 30,
   "metadata": {},
   "outputs": [
    {
     "name": "stdout",
     "output_type": "stream",
     "text": [
      "39460\n"
     ]
    }
   ],
   "source": [
    "# Preview dataset\n",
    "df = pd.read_csv(os.path.join(PATH_TO_DATASET, DATASET_NAME))\n",
    "#print(df)\n",
    "print(len(df))\n",
    "#df.head()\n",
    "#print(np.any(np.isnan(df['percSOV'])))\n",
    "#df = df.dropna(subset=['percSOV'])\n",
    "#print(len(df))"
   ]
  },
  {
   "cell_type": "markdown",
   "metadata": {},
   "source": [
    "**Upload dataset to Darwin**"
   ]
  },
  {
   "cell_type": "code",
   "execution_count": 31,
   "metadata": {
    "scrolled": true
   },
   "outputs": [],
   "source": [
    "# Upload dataset\n",
    "status, dataset = ds.upload_dataset(os.path.join(PATH_TO_DATASET, DATASET_NAME))\n",
    "if not status:\n",
    "    print(dataset)"
   ]
  },
  {
   "cell_type": "markdown",
   "metadata": {},
   "source": [
    "**Clean dataset**"
   ]
  },
  {
   "cell_type": "code",
   "execution_count": 32,
   "metadata": {},
   "outputs": [
    {
     "name": "stdout",
     "output_type": "stream",
     "text": [
      "{'status': 'Taken', 'starttime': '2019-04-03T14:35:02.373814', 'endtime': None, 'percent_complete': 0, 'job_type': 'CleanDataTiny', 'loss': None, 'generations': None, 'dataset_names': ['mergedData2.csv'], 'artifact_names': ['6086e6f392fc4982904cecb8bb4ef3e4'], 'model_name': None, 'job_error': None}\n",
      "{'status': 'Running', 'starttime': '2019-04-03T14:35:02.373814', 'endtime': None, 'percent_complete': 0, 'job_type': 'CleanDataTiny', 'loss': None, 'generations': None, 'dataset_names': ['mergedData2.csv'], 'artifact_names': ['6086e6f392fc4982904cecb8bb4ef3e4'], 'model_name': None, 'job_error': ''}\n",
      "{'status': 'Running', 'starttime': '2019-04-03T14:35:02.373814', 'endtime': None, 'percent_complete': 0, 'job_type': 'CleanDataTiny', 'loss': None, 'generations': None, 'dataset_names': ['mergedData2.csv'], 'artifact_names': ['6086e6f392fc4982904cecb8bb4ef3e4'], 'model_name': None, 'job_error': ''}\n",
      "{'status': 'Complete', 'starttime': '2019-04-03T14:35:02.373814', 'endtime': '2019-04-03T14:35:33.925845', 'percent_complete': 100, 'job_type': 'CleanDataTiny', 'loss': None, 'generations': None, 'dataset_names': ['mergedData2.csv'], 'artifact_names': ['6086e6f392fc4982904cecb8bb4ef3e4'], 'model_name': None, 'job_error': ''}\n"
     ]
    }
   ],
   "source": [
    "# clean dataset\n",
    "target = \"percSOV\"\n",
    "status, job_id = ds.clean_data(DATASET_NAME, target = target)\n",
    "\n",
    "if status:\n",
    "    ds.wait_for_job(job_id['job_name'])\n",
    "else:\n",
    "    print(job_id)"
   ]
  },
  {
   "cell_type": "markdown",
   "metadata": {},
   "source": [
    "# Create and Train Model "
   ]
  },
  {
   "cell_type": "markdown",
   "metadata": {},
   "source": [
    "We will now build a model that will learn the class labels in the target column.<br> In the default boston dataset, the target column is \"Assessed_Value\". <br> You will have to specify your own target name for your custom dataset. <br> You can also increase max_train_time for longer training.\n"
   ]
  },
  {
   "cell_type": "code",
   "execution_count": 33,
   "metadata": {
    "scrolled": true
   },
   "outputs": [
    {
     "name": "stdout",
     "output_type": "stream",
     "text": [
      "{'status': 'Requested', 'starttime': '2019-04-03T14:35:53.685673', 'endtime': None, 'percent_complete': 0, 'job_type': 'TrainModel', 'loss': None, 'generations': 0, 'dataset_names': ['mergedData2.csv'], 'artifact_names': None, 'model_name': 'percSOV_model020190403143428', 'job_error': None}\n",
      "{'status': 'Running', 'starttime': '2019-04-03T14:35:53.685673', 'endtime': None, 'percent_complete': 0, 'job_type': 'TrainModel', 'loss': None, 'generations': 0, 'dataset_names': ['mergedData2.csv'], 'artifact_names': None, 'model_name': 'percSOV_model020190403143428', 'job_error': ''}\n",
      "{'status': 'Running', 'starttime': '2019-04-03T14:35:53.685673', 'endtime': None, 'percent_complete': 12, 'job_type': 'TrainModel', 'loss': 0.583744466304779, 'generations': 0, 'dataset_names': ['mergedData2.csv'], 'artifact_names': None, 'model_name': 'percSOV_model020190403143428', 'job_error': ''}\n",
      "{'status': 'Running', 'starttime': '2019-04-03T14:35:53.685673', 'endtime': None, 'percent_complete': 12, 'job_type': 'TrainModel', 'loss': 0.583744466304779, 'generations': 0, 'dataset_names': ['mergedData2.csv'], 'artifact_names': None, 'model_name': 'percSOV_model020190403143428', 'job_error': ''}\n",
      "{'status': 'Running', 'starttime': '2019-04-03T14:35:53.685673', 'endtime': None, 'percent_complete': 12, 'job_type': 'TrainModel', 'loss': 0.583744466304779, 'generations': 0, 'dataset_names': ['mergedData2.csv'], 'artifact_names': None, 'model_name': 'percSOV_model020190403143428', 'job_error': ''}\n",
      "{'status': 'Running', 'starttime': '2019-04-03T14:35:53.685673', 'endtime': None, 'percent_complete': 12, 'job_type': 'TrainModel', 'loss': 0.583744466304779, 'generations': 0, 'dataset_names': ['mergedData2.csv'], 'artifact_names': None, 'model_name': 'percSOV_model020190403143428', 'job_error': ''}\n",
      "{'status': 'Running', 'starttime': '2019-04-03T14:35:53.685673', 'endtime': None, 'percent_complete': 12, 'job_type': 'TrainModel', 'loss': 0.583744466304779, 'generations': 0, 'dataset_names': ['mergedData2.csv'], 'artifact_names': None, 'model_name': 'percSOV_model020190403143428', 'job_error': ''}\n",
      "{'status': 'Running', 'starttime': '2019-04-03T14:35:53.685673', 'endtime': None, 'percent_complete': 12, 'job_type': 'TrainModel', 'loss': 0.583744466304779, 'generations': 0, 'dataset_names': ['mergedData2.csv'], 'artifact_names': None, 'model_name': 'percSOV_model020190403143428', 'job_error': ''}\n",
      "{'status': 'Running', 'starttime': '2019-04-03T14:35:53.685673', 'endtime': None, 'percent_complete': 12, 'job_type': 'TrainModel', 'loss': 0.583744466304779, 'generations': 0, 'dataset_names': ['mergedData2.csv'], 'artifact_names': None, 'model_name': 'percSOV_model020190403143428', 'job_error': ''}\n",
      "{'status': 'Running', 'starttime': '2019-04-03T14:35:53.685673', 'endtime': None, 'percent_complete': 12, 'job_type': 'TrainModel', 'loss': 0.583744466304779, 'generations': 0, 'dataset_names': ['mergedData2.csv'], 'artifact_names': None, 'model_name': 'percSOV_model020190403143428', 'job_error': ''}\n",
      "{'status': 'Running', 'starttime': '2019-04-03T14:35:53.685673', 'endtime': None, 'percent_complete': 12, 'job_type': 'TrainModel', 'loss': 0.583744466304779, 'generations': 0, 'dataset_names': ['mergedData2.csv'], 'artifact_names': None, 'model_name': 'percSOV_model020190403143428', 'job_error': ''}\n",
      "{'status': 'Running', 'starttime': '2019-04-03T14:35:53.685673', 'endtime': None, 'percent_complete': 12, 'job_type': 'TrainModel', 'loss': 0.583744466304779, 'generations': 0, 'dataset_names': ['mergedData2.csv'], 'artifact_names': None, 'model_name': 'percSOV_model020190403143428', 'job_error': ''}\n",
      "{'status': 'Running', 'starttime': '2019-04-03T14:35:53.685673', 'endtime': None, 'percent_complete': 12, 'job_type': 'TrainModel', 'loss': 0.583744466304779, 'generations': 0, 'dataset_names': ['mergedData2.csv'], 'artifact_names': None, 'model_name': 'percSOV_model020190403143428', 'job_error': ''}\n",
      "{'status': 'Running', 'starttime': '2019-04-03T14:35:53.685673', 'endtime': None, 'percent_complete': 12, 'job_type': 'TrainModel', 'loss': 0.583744466304779, 'generations': 0, 'dataset_names': ['mergedData2.csv'], 'artifact_names': None, 'model_name': 'percSOV_model020190403143428', 'job_error': ''}\n",
      "{'status': 'Complete', 'starttime': '2019-04-03T14:35:53.685673', 'endtime': '2019-04-03T14:39:10.495394', 'percent_complete': 100, 'job_type': 'TrainModel', 'loss': 0.583744466304779, 'generations': 0, 'dataset_names': ['mergedData2.csv'], 'artifact_names': None, 'model_name': 'percSOV_model020190403143428', 'job_error': ''}\n"
     ]
    }
   ],
   "source": [
    "model = target + \"_model0\" + ts\n",
    "status, job_id = ds.create_model(dataset_names = DATASET_NAME, \\\n",
    "                                 model_name =  model, \\\n",
    "                                 max_train_time = '00:02')\n",
    "if status:\n",
    "    ds.wait_for_job(job_id['job_name'])\n",
    "else:\n",
    "    print(job_id)"
   ]
  },
  {
   "cell_type": "markdown",
   "metadata": {},
   "source": [
    "# Extra Training (Optional)\n",
    "Run the following cell for extra training, no need to specify parameters"
   ]
  },
  {
   "cell_type": "code",
   "execution_count": 13,
   "metadata": {},
   "outputs": [
    {
     "name": "stdout",
     "output_type": "stream",
     "text": [
      "{'status': 'Requested', 'starttime': '2019-04-03T10:47:08.112132', 'endtime': None, 'percent_complete': 0, 'job_type': 'UpdateModel', 'loss': 0.5800882577896118, 'generations': 1, 'dataset_names': ['mergedData.csv'], 'artifact_names': None, 'model_name': 'percSOV_model020190403104259', 'job_error': None}\n",
      "{'status': 'Running', 'starttime': '2019-04-03T10:47:08.112132', 'endtime': None, 'percent_complete': 0, 'job_type': 'UpdateModel', 'loss': 0.5800882577896118, 'generations': 1, 'dataset_names': ['mergedData.csv'], 'artifact_names': None, 'model_name': 'percSOV_model020190403104259', 'job_error': ''}\n",
      "{'status': 'Running', 'starttime': '2019-04-03T10:47:08.112132', 'endtime': None, 'percent_complete': 0, 'job_type': 'UpdateModel', 'loss': 0.5800882577896118, 'generations': 1, 'dataset_names': ['mergedData.csv'], 'artifact_names': None, 'model_name': 'percSOV_model020190403104259', 'job_error': ''}\n",
      "{'status': 'Running', 'starttime': '2019-04-03T10:47:08.112132', 'endtime': None, 'percent_complete': 0, 'job_type': 'UpdateModel', 'loss': 0.5800882577896118, 'generations': 1, 'dataset_names': ['mergedData.csv'], 'artifact_names': None, 'model_name': 'percSOV_model020190403104259', 'job_error': ''}\n",
      "{'status': 'Running', 'starttime': '2019-04-03T10:47:08.112132', 'endtime': None, 'percent_complete': 11, 'job_type': 'UpdateModel', 'loss': 0.5800882577896118, 'generations': 3, 'dataset_names': ['mergedData.csv'], 'artifact_names': None, 'model_name': 'percSOV_model020190403104259', 'job_error': ''}\n",
      "{'status': 'Running', 'starttime': '2019-04-03T10:47:08.112132', 'endtime': None, 'percent_complete': 16, 'job_type': 'UpdateModel', 'loss': 0.5800882577896118, 'generations': 4, 'dataset_names': ['mergedData.csv'], 'artifact_names': None, 'model_name': 'percSOV_model020190403104259', 'job_error': ''}\n",
      "{'status': 'Running', 'starttime': '2019-04-03T10:47:08.112132', 'endtime': None, 'percent_complete': 16, 'job_type': 'UpdateModel', 'loss': 0.5800882577896118, 'generations': 4, 'dataset_names': ['mergedData.csv'], 'artifact_names': None, 'model_name': 'percSOV_model020190403104259', 'job_error': ''}\n",
      "{'status': 'Running', 'starttime': '2019-04-03T10:47:08.112132', 'endtime': None, 'percent_complete': 16, 'job_type': 'UpdateModel', 'loss': 0.5800882577896118, 'generations': 4, 'dataset_names': ['mergedData.csv'], 'artifact_names': None, 'model_name': 'percSOV_model020190403104259', 'job_error': ''}\n",
      "{'status': 'Running', 'starttime': '2019-04-03T10:47:08.112132', 'endtime': None, 'percent_complete': 16, 'job_type': 'UpdateModel', 'loss': 0.5800882577896118, 'generations': 4, 'dataset_names': ['mergedData.csv'], 'artifact_names': None, 'model_name': 'percSOV_model020190403104259', 'job_error': ''}\n",
      "{'status': 'Running', 'starttime': '2019-04-03T10:47:08.112132', 'endtime': None, 'percent_complete': 16, 'job_type': 'UpdateModel', 'loss': 0.5800882577896118, 'generations': 4, 'dataset_names': ['mergedData.csv'], 'artifact_names': None, 'model_name': 'percSOV_model020190403104259', 'job_error': ''}\n",
      "{'status': 'Running', 'starttime': '2019-04-03T10:47:08.112132', 'endtime': None, 'percent_complete': 16, 'job_type': 'UpdateModel', 'loss': 0.5800882577896118, 'generations': 4, 'dataset_names': ['mergedData.csv'], 'artifact_names': None, 'model_name': 'percSOV_model020190403104259', 'job_error': ''}\n",
      "{'status': 'Running', 'starttime': '2019-04-03T10:47:08.112132', 'endtime': None, 'percent_complete': 16, 'job_type': 'UpdateModel', 'loss': 0.5800882577896118, 'generations': 4, 'dataset_names': ['mergedData.csv'], 'artifact_names': None, 'model_name': 'percSOV_model020190403104259', 'job_error': ''}\n",
      "{'status': 'Running', 'starttime': '2019-04-03T10:47:08.112132', 'endtime': None, 'percent_complete': 16, 'job_type': 'UpdateModel', 'loss': 0.5800882577896118, 'generations': 4, 'dataset_names': ['mergedData.csv'], 'artifact_names': None, 'model_name': 'percSOV_model020190403104259', 'job_error': ''}\n",
      "{'status': 'Running', 'starttime': '2019-04-03T10:47:08.112132', 'endtime': None, 'percent_complete': 16, 'job_type': 'UpdateModel', 'loss': 0.5800882577896118, 'generations': 4, 'dataset_names': ['mergedData.csv'], 'artifact_names': None, 'model_name': 'percSOV_model020190403104259', 'job_error': ''}\n",
      "{'status': 'Running', 'starttime': '2019-04-03T10:47:08.112132', 'endtime': None, 'percent_complete': 16, 'job_type': 'UpdateModel', 'loss': 0.5800882577896118, 'generations': 4, 'dataset_names': ['mergedData.csv'], 'artifact_names': None, 'model_name': 'percSOV_model020190403104259', 'job_error': ''}\n",
      "{'status': 'Running', 'starttime': '2019-04-03T10:47:08.112132', 'endtime': None, 'percent_complete': 16, 'job_type': 'UpdateModel', 'loss': 0.5800882577896118, 'generations': 4, 'dataset_names': ['mergedData.csv'], 'artifact_names': None, 'model_name': 'percSOV_model020190403104259', 'job_error': ''}\n",
      "{'status': 'Running', 'starttime': '2019-04-03T10:47:08.112132', 'endtime': None, 'percent_complete': 16, 'job_type': 'UpdateModel', 'loss': 0.5800882577896118, 'generations': 4, 'dataset_names': ['mergedData.csv'], 'artifact_names': None, 'model_name': 'percSOV_model020190403104259', 'job_error': ''}\n",
      "{'status': 'Running', 'starttime': '2019-04-03T10:47:08.112132', 'endtime': None, 'percent_complete': 16, 'job_type': 'UpdateModel', 'loss': 0.5800882577896118, 'generations': 4, 'dataset_names': ['mergedData.csv'], 'artifact_names': None, 'model_name': 'percSOV_model020190403104259', 'job_error': ''}\n",
      "{'status': 'Running', 'starttime': '2019-04-03T10:47:08.112132', 'endtime': None, 'percent_complete': 16, 'job_type': 'UpdateModel', 'loss': 0.5800882577896118, 'generations': 4, 'dataset_names': ['mergedData.csv'], 'artifact_names': None, 'model_name': 'percSOV_model020190403104259', 'job_error': ''}\n",
      "{'status': 'Running', 'starttime': '2019-04-03T10:47:08.112132', 'endtime': None, 'percent_complete': 16, 'job_type': 'UpdateModel', 'loss': 0.5800882577896118, 'generations': 4, 'dataset_names': ['mergedData.csv'], 'artifact_names': None, 'model_name': 'percSOV_model020190403104259', 'job_error': ''}\n",
      "{'status': 'Running', 'starttime': '2019-04-03T10:47:08.112132', 'endtime': None, 'percent_complete': 16, 'job_type': 'UpdateModel', 'loss': 0.5800882577896118, 'generations': 4, 'dataset_names': ['mergedData.csv'], 'artifact_names': None, 'model_name': 'percSOV_model020190403104259', 'job_error': ''}\n",
      "{'status': 'Complete', 'starttime': '2019-04-03T10:47:08.112132', 'endtime': '2019-04-03T10:52:22.516963', 'percent_complete': 100, 'job_type': 'UpdateModel', 'loss': 0.5800882577896118, 'generations': 4, 'dataset_names': ['mergedData.csv'], 'artifact_names': None, 'model_name': 'percSOV_model020190403104259', 'job_error': ''}\n"
     ]
    }
   ],
   "source": [
    "# Train some more\n",
    "status, job_id = ds.resume_training_model(dataset_names = DATASET_NAME,\n",
    "                                          model_name = model,\n",
    "                                          max_train_time = '00:05')\n",
    "                                          \n",
    "if status:\n",
    "    ds.wait_for_job(job_id['job_name'])\n",
    "else:\n",
    "    print(job_id)"
   ]
  },
  {
   "cell_type": "markdown",
   "metadata": {},
   "source": [
    "# Analyze Model\n",
    "Analyze model provides feature importance ranked by the model. <br> It indicates a general view of which features pose a bigger impact on the model"
   ]
  },
  {
   "cell_type": "code",
   "execution_count": 34,
   "metadata": {
    "scrolled": false
   },
   "outputs": [
    {
     "name": "stdout",
     "output_type": "stream",
     "text": [
      "{'status': 'Running', 'starttime': '2019-04-03T14:39:36.326291', 'endtime': None, 'percent_complete': 0, 'job_type': 'AnalyzeModel', 'loss': 0.583744466304779, 'generations': 0, 'dataset_names': None, 'artifact_names': ['beb001a59ec84d0fa5658be88beb7cff'], 'model_name': 'percSOV_model020190403143428', 'job_error': ''}\n",
      "{'status': 'Running', 'starttime': '2019-04-03T14:39:36.326291', 'endtime': None, 'percent_complete': 0, 'job_type': 'AnalyzeModel', 'loss': 0.583744466304779, 'generations': 0, 'dataset_names': None, 'artifact_names': ['beb001a59ec84d0fa5658be88beb7cff'], 'model_name': 'percSOV_model020190403143428', 'job_error': ''}\n",
      "{'status': 'Running', 'starttime': '2019-04-03T14:39:36.326291', 'endtime': None, 'percent_complete': 0, 'job_type': 'AnalyzeModel', 'loss': 0.583744466304779, 'generations': 0, 'dataset_names': None, 'artifact_names': ['beb001a59ec84d0fa5658be88beb7cff'], 'model_name': 'percSOV_model020190403143428', 'job_error': ''}\n",
      "{'status': 'Complete', 'starttime': '2019-04-03T14:39:36.326291', 'endtime': '2019-04-03T14:40:07.775024', 'percent_complete': 100, 'job_type': 'AnalyzeModel', 'loss': 0.583744466304779, 'generations': 0, 'dataset_names': None, 'artifact_names': ['beb001a59ec84d0fa5658be88beb7cff'], 'model_name': 'percSOV_model020190403143428', 'job_error': ''}\n"
     ]
    }
   ],
   "source": [
    "# Retrieve feature importance of built model\n",
    "status, artifact = ds.analyze_model(model)\n",
    "sleep(1)\n",
    "if status:\n",
    "    ds.wait_for_job(artifact['job_name'])\n",
    "else:\n",
    "    print(artifact)\n",
    "status, feature_importance = ds.download_artifact(artifact['artifact_name'])"
   ]
  },
  {
   "cell_type": "markdown",
   "metadata": {},
   "source": [
    "Show the 10 most important features of the model."
   ]
  },
  {
   "cell_type": "code",
   "execution_count": 35,
   "metadata": {},
   "outputs": [
    {
     "data": {
      "text/plain": [
       "D4d             0.322455\n",
       "PCT_AO0         0.129223\n",
       "OBJECTID        0.118343\n",
       "PCT_AO2P        0.114013\n",
       "D5br            0.033200\n",
       "AUTOOWN2P       0.030385\n",
       "R_PCTLOWWAGE    0.025820\n",
       "P_WRKAGE        0.020963\n",
       "HH              0.017118\n",
       "D1B             0.014818\n",
       "dtype: float64"
      ]
     },
     "execution_count": 35,
     "metadata": {},
     "output_type": "execute_result"
    }
   ],
   "source": [
    "feature_importance[:10]"
   ]
  },
  {
   "cell_type": "markdown",
   "metadata": {},
   "source": [
    "# Predictions\n",
    "**Perform model prediction on the the training dataset.**"
   ]
  },
  {
   "cell_type": "code",
   "execution_count": 37,
   "metadata": {
    "scrolled": true
   },
   "outputs": [
    {
     "name": "stdout",
     "output_type": "stream",
     "text": [
      "{'status': 'Running', 'starttime': '2019-04-03T14:41:48.301127', 'endtime': None, 'percent_complete': 0, 'job_type': 'RunModel', 'loss': 0.583744466304779, 'generations': 0, 'dataset_names': ['mergedData2.csv'], 'artifact_names': ['b6b2b6bee2b24e15bb90fa38be02fc07'], 'model_name': 'percSOV_model020190403143428', 'job_error': ''}\n",
      "{'status': 'Complete', 'starttime': '2019-04-03T14:41:48.301127', 'endtime': '2019-04-03T14:41:52.618988', 'percent_complete': 100, 'job_type': 'RunModel', 'loss': 0.583744466304779, 'generations': 0, 'dataset_names': ['mergedData2.csv'], 'artifact_names': ['b6b2b6bee2b24e15bb90fa38be02fc07'], 'model_name': 'percSOV_model020190403143428', 'job_error': ''}\n"
     ]
    },
    {
     "data": {
      "text/plain": [
       "(True, 'Job completed')"
      ]
     },
     "execution_count": 37,
     "metadata": {},
     "output_type": "execute_result"
    }
   ],
   "source": [
    "status, artifact = ds.run_model(DATASET_NAME, model)\n",
    "sleep(1)\n",
    "ds.wait_for_job(artifact['job_name'])"
   ]
  },
  {
   "cell_type": "markdown",
   "metadata": {},
   "source": [
    "Download predictions from Darwin's server."
   ]
  },
  {
   "cell_type": "code",
   "execution_count": 38,
   "metadata": {
    "scrolled": true
   },
   "outputs": [
    {
     "name": "stdout",
     "output_type": "stream",
     "text": [
      "39460\n",
      "39460\n"
     ]
    }
   ],
   "source": [
    "status, prediction = ds.download_artifact(artifact['artifact_name'])\n",
    "print(len(df[target]))\n",
    "print(len(prediction[target]))"
   ]
  },
  {
   "cell_type": "markdown",
   "metadata": {},
   "source": [
    "Create plots comparing predictions with actual target"
   ]
  },
  {
   "cell_type": "code",
   "execution_count": 39,
   "metadata": {
    "scrolled": true
   },
   "outputs": [
    {
     "name": "stdout",
     "output_type": "stream",
     "text": [
      "R^2 :  0.4462705744488116\n"
     ]
    },
    {
     "data": {
      "image/png": "[encoded data removed]",
      "text/plain": [
       "<Figure size 432x288 with 1 Axes>"
      ]
     },
     "metadata": {
      "needs_background": "light"
     },
     "output_type": "display_data"
    }
   ],
   "source": [
    "#Plot predictions vs actual\n",
    "plt.plot(df[target], prediction[target], '.')\n",
    "#plt.plot([0,2.3e7],[0,2.3e7],'--k')\n",
    "print('R^2 : ', r2_score(df[target], prediction[target]))"
   ]
  },
  {
   "cell_type": "markdown",
   "metadata": {},
   "source": [
    "## Find out which machine learning model did Darwin use:"
   ]
  },
  {
   "cell_type": "code",
   "execution_count": 40,
   "metadata": {},
   "outputs": [
    {
     "name": "stdout",
     "output_type": "stream",
     "text": [
      "{'type': 'XGBRegressor', 'parameters': {'base_score': 0.5, 'colsample_bylevel': 1, 'colsample_bytree': 1, 'gamma': 0, 'learning_rate': 0.1, 'max_delta_step': 0, 'max_depth': 3, 'min_child_weight': 1, 'n_estimators': 100, 'n_jobs': -1, 'reg_alpha': 0, 'reg_lambda': 1, 'scale_pos_weight': 1, 'subsample': 1.0}}\n"
     ]
    }
   ],
   "source": [
    "status, model_type = ds.lookup_model_name(model)\n",
    "print(model_type['description']['best_genome'])"
   ]
  }
 ],
 "metadata": {
  "anaconda-cloud": {},
  "kernelspec": {
   "display_name": "Python 3",
   "language": "python",
   "name": "python3"
  },
  "language_info": {
   "codemirror_mode": {
    "name": "ipython",
    "version": 3
   },
   "file_extension": ".py",
   "mimetype": "text/x-python",
   "name": "python",
   "nbconvert_exporter": "python",
   "pygments_lexer": "ipython3",
   "version": "3.7.1"
  }
 },
 "nbformat": 4,
 "nbformat_minor": 2
}
